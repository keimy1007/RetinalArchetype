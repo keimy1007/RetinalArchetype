{
 "cells": [
  {
   "cell_type": "markdown",
   "metadata": {},
   "source": [
    "Purpose: run VAE+AA for Harvard-GDP datasets"
   ]
  },
  {
   "cell_type": "markdown",
   "metadata": {},
   "source": [
    "# Import libaries"
   ]
  },
  {
   "cell_type": "code",
   "execution_count": null,
   "metadata": {},
   "outputs": [],
   "source": [
    "import numpy as np\n",
    "import pandas as pd\n",
    "import matplotlib.pyplot as plt\n",
    "import seaborn as sns\n",
    "\n",
    "import matplotlib.pyplot as plt\n",
    "import matplotlib\n",
    "\n",
    "matplotlib.rcParams['font.family'] = 'Arial'\n",
    "matplotlib.rcParams['font.weight'] = 'bold'\n",
    "matplotlib.rcParams['font.size'] = 18\n",
    "matplotlib.rcParams['figure.titlesize'] = 18\n",
    "# matplotlib.rcParams['font.style'] = 'italic'\n",
    "\n",
    "# utility\n",
    "import time\n",
    "import copy as cp\n",
    "from tqdm import tqdm\n",
    "from collections import defaultdict\n",
    "import glob\n",
    "import os\n",
    "import sys\n",
    "from sys import stderr\n",
    "import warnings\n",
    "warnings.simplefilter('ignore')\n",
    "\n",
    "# 乱数\n",
    "rng = np.random.RandomState(42)\n",
    "random_state = 42\n",
    "\n",
    "# %cd your path\n",
    "# %pwd"
   ]
  },
  {
   "cell_type": "markdown",
   "metadata": {},
   "source": [
    "# preprocess npy (RNFLT images)\n"
   ]
  },
  {
   "cell_type": "markdown",
   "metadata": {},
   "source": [
    "check images"
   ]
  },
  {
   "cell_type": "code",
   "execution_count": null,
   "metadata": {},
   "outputs": [],
   "source": [
    "import matplotlib.colors as mcolors\n",
    "\n",
    "def visualize(arr, vmin=0, vmax=1, figname=None):\n",
    "    # base_cmap = plt.cm.RdYlGn\n",
    "    base_cmap = plt.cm.RdYlBu_r\n",
    "\n",
    "    colors = base_cmap(np.arange(base_cmap.N))\n",
    "    colors[0] = [0, 0, 0, 1]\n",
    "    new_cmap = mcolors.ListedColormap(colors)\n",
    "\n",
    "    fig, ax = plt.subplots(figsize=(5, 5))\n",
    "    im = ax.imshow(arr, cmap=new_cmap, vmin=vmin, vmax=vmax)\n",
    "\n",
    "    ax.set_xticks([])\n",
    "    ax.set_yticks([])\n",
    "\n",
    "    plt.title(\"\")\n",
    "\n",
    "    plt.savefig(f\"figures/samples/{figname}.pdf\", transparent=True)\n",
    "    plt.close()\n",
    "\n",
    "def show_ranges(arr): return arr.min(), arr.max()"
   ]
  },
  {
   "cell_type": "code",
   "execution_count": null,
   "metadata": {},
   "outputs": [],
   "source": [
    "import glob\n",
    "import cv2\n",
    "\n",
    "import os\n",
    "os.makedirs(\"figures/samples\", exist_ok=True)\n",
    "\n",
    "# obtained from harvard GDP repository\n",
    "files = glob.glob(\"datasets/RNFLT/*.npz\")\n",
    "files.sort()\n",
    "\n",
    "for idx, file in enumerate(files[:10]):\n",
    "    print(file)\n",
    "    data = np.load(file)\n",
    "    img = data['rnflt']\n",
    "\n",
    "    vmin, vmax = show_ranges(img)\n",
    "    print(\"min:\", vmin, \"max:\", vmax)\n",
    "    # ceiling\n",
    "    vmax = 240\n",
    "\n",
    "    visualize(img, vmin, vmax, figname=f\"sample_{idx}\")\n",
    "    img_resized = cv2.resize(img, (26, 26), interpolation=cv2.INTER_LANCZOS4)\n",
    "    visualize(img_resized, vmin, vmax, figname=f\"sample_{idx}_resized\")\n",
    "\n"
   ]
  },
  {
   "cell_type": "markdown",
   "metadata": {},
   "source": [
    "organize RNFLT datasets"
   ]
  },
  {
   "cell_type": "code",
   "execution_count": null,
   "metadata": {},
   "outputs": [],
   "source": [
    "import glob\n",
    "import cv2\n",
    "\n",
    "# obtained from harvard GDP repository\n",
    "files = glob.glob(\"datasets/RNFLT/*.npz\")\n",
    "files.sort()\n",
    "records = []\n",
    "\n",
    "for file in files:\n",
    "    ID = file.split(\"/\")[-1].split(\".\")[0]\n",
    "    data = np.load(file)\n",
    "    if 'rnflt' not in data:\n",
    "        continue\n",
    "    img = data['rnflt']\n",
    "    img = cv2.resize(img, (26, 26), interpolation=cv2.INTER_LANCZOS4)    \n",
    "    img_flat = img.flatten()  # shape: (676,)\n",
    "\n",
    "    row = [ID] + img_flat.tolist()\n",
    "    records.append(row)\n",
    "\n",
    "# DataFrame columns: \"ID\", \"h1\", \"h2\", ..., \"h676\"\n",
    "columns = [\"ID\"] + [f\"h{i+1}\" for i in range(676)]\n",
    "df_oct = pd.DataFrame(records, columns=columns)\n",
    "\n",
    "df_oct.to_csv(\"datasets/data_RNFLT.csv\", index=False)\n",
    "print(df_oct.shape)\n",
    "df_oct.head()"
   ]
  },
  {
   "cell_type": "markdown",
   "metadata": {},
   "source": [
    "# preprocess CSV\n",
    "\n",
    "ID (filename)\n",
    "\n",
    "sex (gender): male(444), female(556)\n",
    "\n",
    "age\n",
    "\n",
    "race: white(743), black(162), asian(95)\n",
    "\n",
    "hispanic: yes(25), no(944)\n",
    "\n",
    "glaucoma: yes(443), no(557)\n",
    "\n",
    "h1 ... h676"
   ]
  },
  {
   "cell_type": "code",
   "execution_count": null,
   "metadata": {},
   "outputs": [],
   "source": [
    "df_info = pd.read_csv(\"data_harvard/data_summary.csv\").iloc[:, :6]\n",
    "df_info.rename(columns={\"filename\": \"ID\"}, inplace=True)\n",
    "df_info[\"sex\"] = df_info[\"gender\"].replace(\"male\", 1).replace(\"female\", 0)\n",
    "\n",
    "df_oct = pd.read_csv(\"data_harvard/data_RNFLT.csv\")\n",
    "\n",
    "df_all = pd.merge(df_info, df_oct, on=\"ID\", how=\"inner\")\n",
    "df_all[\"ID\"] = df_all[\"ID\"].str.replace(\"data_\", \"\").astype(int)\n",
    "df_all.to_csv(\"data_harvard/data_all.csv\", index=False)\n",
    "\n",
    "print(df_all.shape)\n",
    "df_all.head()"
   ]
  },
  {
   "cell_type": "code",
   "execution_count": null,
   "metadata": {},
   "outputs": [],
   "source": []
  },
  {
   "cell_type": "code",
   "execution_count": null,
   "metadata": {},
   "outputs": [],
   "source": []
  }
 ],
 "metadata": {
  "kernelspec": {
   "display_name": "main",
   "language": "python",
   "name": "python3"
  },
  "language_info": {
   "codemirror_mode": {
    "name": "ipython",
    "version": 3
   },
   "file_extension": ".py",
   "mimetype": "text/x-python",
   "name": "python",
   "nbconvert_exporter": "python",
   "pygments_lexer": "ipython3",
   "version": "3.10.8"
  },
  "orig_nbformat": 4
 },
 "nbformat": 4,
 "nbformat_minor": 2
}
